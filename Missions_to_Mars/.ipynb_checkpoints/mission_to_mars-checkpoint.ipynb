{
 "cells": [
  {
   "cell_type": "code",
   "execution_count": null,
   "metadata": {},
   "outputs": [],
   "source": [
    "#Load Dependencies\n",
    "import pandas as pd\n",
    "from bs4 import BeautifulSoup as bs\n",
    "from splinter import Browser\n",
    "executable_path={'executable_path':'chromedriver.exe'}\n",
    "browser=Browser('chrome',**executable_path,headless=False)"
   ]
  },
  {
   "cell_type": "code",
   "execution_count": null,
   "metadata": {},
   "outputs": [],
   "source": [
    "#Setup urls to be scraped\n",
    "marsnewsurl='https://mars.nasa.gov/news/?page=0&per_page=40&order=publish_date+desc%2Ccreated_at+desc&search=&category=19%2C165%2C184%2C204&blank_scope=Latest'\n",
    "marsimageurl='https://www.jpl.nasa.gov/spaceimages/?search=&category=Mars'\n",
    "marsweatherurl='https://twitter.com/marswxreport?lang=en'\n",
    "marsfactsurl='https://space-facts.com/mars/'\n",
    "hemisphereurl='https://astrogeology.usgs.gov/search/results?q=hemisphere+enhanced&k1=target&v1=Mars'"
   ]
  },
  {
   "cell_type": "code",
   "execution_count": null,
   "metadata": {},
   "outputs": [],
   "source": [
    "#Create BeautifulSoup object in order to get latest Mars news\n",
    "browser.visit(marsnewsurl)\n",
    "marsnews=bs(browser.html,'html5lib')\n",
    "browser.quit"
   ]
  },
  {
   "cell_type": "code",
   "execution_count": null,
   "metadata": {},
   "outputs": [],
   "source": [
    "#Create variable for latest Mars news title\n",
    "news_title=marsnews.find_all('div',class_='content_title')[0].text\n",
    "#print(news_title)"
   ]
  },
  {
   "cell_type": "code",
   "execution_count": null,
   "metadata": {},
   "outputs": [],
   "source": [
    "#Create variable for latest Mars news text\n",
    "news_p=marsnews.find_all('div',class_='article_teaser_body')[0].text\n",
    "#print(news_p)"
   ]
  },
  {
   "cell_type": "code",
   "execution_count": null,
   "metadata": {},
   "outputs": [],
   "source": [
    "#Create BeautifulSoup object in order to get featured space image from JPL\n",
    "browser.visit(marsimageurl)\n",
    "browser.click_link_by_partial_text('FULL IMAGE')\n",
    "browser.click_link_by_partial_text('more info')\n",
    "marsimage=bs(browser.html,'html5lib')\n",
    "browser.quit"
   ]
  },
  {
   "cell_type": "code",
   "execution_count": null,
   "metadata": {},
   "outputs": [],
   "source": [
    "#Create variable for featured image\n",
    "featured_image_url='https://www.jpl.nasa.gov'+marsimage.find('figure',class_='lede').a['href']\n",
    "#print(featured_image_url)"
   ]
  },
  {
   "cell_type": "code",
   "execution_count": null,
   "metadata": {},
   "outputs": [],
   "source": [
    "#Create BeautifulSoup object in order to get featured space image from JPL\n",
    "browser.visit(marsimageurl)\n",
    "marsimage2=bs(browser.html,'html5lib')\n",
    "browser.quit"
   ]
  },
  {
   "cell_type": "code",
   "execution_count": null,
   "metadata": {},
   "outputs": [],
   "source": [
    "#Create variable for Mars image\n",
    "featured_image_url2='https://www.jpl.nasa.gov'+marsimage2.find('li',class_='slide').a['data-fancybox-href']\n",
    "#print(featured_image_url2)"
   ]
  },
  {
   "cell_type": "code",
   "execution_count": null,
   "metadata": {},
   "outputs": [],
   "source": [
    "#Create BeautifulSoup object in order to get latest Mars weather\n",
    "browser.visit(marsweatherurl)\n",
    "marsweather=bs(browser.html,'html5lib')\n",
    "browser.quit"
   ]
  },
  {
   "cell_type": "code",
   "execution_count": null,
   "metadata": {},
   "outputs": [],
   "source": [
    "#Create variable for Mars weather\n",
    "mars_weather=((marsweather.find('p',class_='TweetTextSize').text).split('pic.twitter.com',1)[0]).replace('\\n',' ')\n",
    "#print(mars_weather)"
   ]
  },
  {
   "cell_type": "code",
   "execution_count": null,
   "metadata": {},
   "outputs": [],
   "source": [
    "#Generate html table code of Mars facts\n",
    "table=pd.read_html(marsfactsurl)[0]\n",
    "mars_facts=table.to_html(index=False,header=False)\n",
    "#print(mars_facts)"
   ]
  },
  {
   "cell_type": "code",
   "execution_count": null,
   "metadata": {},
   "outputs": [],
   "source": [
    "#Create BeautifulSoup objects in order to get Mars hemisphere images\n",
    "hemisphere_image=[]\n",
    "browser.visit(hemisphereurl)\n",
    "hemis=bs(browser.html,'html5lib')\n",
    "hemispheres=hemis.find_all('div',class_='description')\n",
    "for h in hemispheres:\n",
    "    hemisphere={}\n",
    "    hemisphere['title']=((h.find('h3').text).split(' Enhanced',1)[0])\n",
    "    nextpage=h.find('a')['href']\n",
    "    browser.visit('https://astrogeology.usgs.gov'+nextpage)\n",
    "    hemiimage=bs(browser.html,'html5lib')\n",
    "    hemisphere['img_url']='https://astrogeology.usgs.gov'+hemiimage.find('img',class_='wide-image')['src']\n",
    "    browser.back()\n",
    "    hemisphere_image.append(hemisphere)\n",
    "browser.quit\n",
    "#print(hemisphere_image)"
   ]
  },
  {
   "cell_type": "code",
   "execution_count": null,
   "metadata": {},
   "outputs": [],
   "source": []
  }
 ],
 "metadata": {
  "kernelspec": {
   "display_name": "Python 3",
   "language": "python",
   "name": "python3"
  },
  "language_info": {
   "codemirror_mode": {
    "name": "ipython",
    "version": 3
   },
   "file_extension": ".py",
   "mimetype": "text/x-python",
   "name": "python",
   "nbconvert_exporter": "python",
   "pygments_lexer": "ipython3",
   "version": "3.7.4"
  }
 },
 "nbformat": 4,
 "nbformat_minor": 4
}
